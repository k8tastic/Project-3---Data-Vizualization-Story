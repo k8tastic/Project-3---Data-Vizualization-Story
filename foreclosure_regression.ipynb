{
 "cells": [
  {
   "cell_type": "code",
   "execution_count": 1,
   "metadata": {},
   "outputs": [],
   "source": [
    "import pandas as pd\n",
    "import matplotlib.pyplot as plt\n",
    "import numpy as np\n",
    "from sklearn import datasets, linear_model\n",
    "from sklearn.metrics import mean_squared_error, r2_score"
   ]
  },
  {
   "cell_type": "code",
   "execution_count": 9,
   "metadata": {},
   "outputs": [],
   "source": [
    "# Load the diabetes dataset\n",
    "data = pd.read_csv(\"train.csv\")\n",
    "#diabetes = datasets.load_diabetes()"
   ]
  },
  {
   "cell_type": "code",
   "execution_count": 13,
   "metadata": {},
   "outputs": [
    {
     "name": "stdout",
     "output_type": "stream",
     "text": [
      "(1460, 3) (1460, 1)\n",
      "      LotArea  OverallCond  FullBath\n",
      "0        8450            5         2\n",
      "1        9600            8         2\n",
      "2       11250            5         2\n",
      "3        9550            5         1\n",
      "4       14260            5         2\n",
      "5       14115            5         1\n",
      "6       10084            5         2\n",
      "7       10382            6         2\n",
      "8        6120            5         2\n",
      "9        7420            6         1\n",
      "10      11200            5         1\n",
      "11      11924            5         3\n",
      "12      12968            6         1\n",
      "13      10652            5         2\n",
      "14      10920            5         1\n",
      "15       6120            8         1\n",
      "16      11241            7         1\n",
      "17      10791            5         2\n",
      "18      13695            5         1\n",
      "19       7560            6         1\n",
      "20      14215            5         3\n",
      "21       7449            7         1\n",
      "22       9742            5         2\n",
      "23       4224            7         1\n",
      "24       8246            8         1\n",
      "25      14230            5         2\n",
      "26       7200            7         1\n",
      "27      11478            5         2\n",
      "28      16321            6         1\n",
      "29       6324            6         1\n",
      "...       ...          ...       ...\n",
      "1430    21930            5         2\n",
      "1431     4928            6         2\n",
      "1432    10800            6         2\n",
      "1433    10261            5         2\n",
      "1434    17400            5         2\n",
      "1435     8400            9         1\n",
      "1436     9000            6         1\n",
      "1437    12444            5         2\n",
      "1438     7407            7         1\n",
      "1439    11584            6         2\n",
      "1440    11526            7         2\n",
      "1441     4426            5         1\n",
      "1442    11003            5         2\n",
      "1443     8854            6         1\n",
      "1444     8500            5         2\n",
      "1445     8400            5         1\n",
      "1446    26142            7         1\n",
      "1447    10000            5         2\n",
      "1448    11767            7         1\n",
      "1449     1533            7         1\n",
      "1450     9000            5         2\n",
      "1451     9262            5         2\n",
      "1452     3675            5         1\n",
      "1453    17217            5         1\n",
      "1454     7500            5         2\n",
      "1455     7917            5         2\n",
      "1456    13175            6         2\n",
      "1457     9042            9         2\n",
      "1458     9717            6         1\n",
      "1459     9937            6         1\n",
      "\n",
      "[1460 rows x 3 columns]\n"
     ]
    }
   ],
   "source": [
    "X = data[[\"LotArea\", \"OverallCond\", \"FullBath\"]]\n",
    "y = data[\"SalePrice\"].values.reshape(-1, 1)\n",
    "print(X.shape, y.shape)\n",
    "print(X)"
   ]
  },
  {
   "cell_type": "code",
   "execution_count": 41,
   "metadata": {},
   "outputs": [
    {
     "name": "stdout",
     "output_type": "stream",
     "text": [
      "(442, 10)\n",
      "(442,)\n"
     ]
    }
   ],
   "source": [
    "# The data containes 10 features and 442 samples (This would be 10 housing features, you can choose less)\n",
    "X = diabetes.data\n",
    "print(X.shape)\n",
    "\n",
    "# The target values (housing price) for each sample in X\n",
    "y = diabetes.target\n",
    "print(y.shape)"
   ]
  },
  {
   "cell_type": "code",
   "execution_count": 54,
   "metadata": {},
   "outputs": [],
   "source": [
    "# Split between the training and the testing dataset\n",
    "\n",
    "X_train = X[:-20]\n",
    "X_test = X[-20:]\n",
    "\n",
    "y_train = y[:-20]\n",
    "y_test = y[-20:]"
   ]
  },
  {
   "cell_type": "code",
   "execution_count": 55,
   "metadata": {},
   "outputs": [
    {
     "data": {
      "text/plain": [
       "LinearRegression(copy_X=True, fit_intercept=True, n_jobs=None,\n",
       "         normalize=False)"
      ]
     },
     "execution_count": 55,
     "metadata": {},
     "output_type": "execute_result"
    }
   ],
   "source": [
    "# create and fit the model \n",
    "\n",
    "model = linear_model.LinearRegression()\n",
    "model.fit(X_train, y_train)"
   ]
  },
  {
   "cell_type": "code",
   "execution_count": 56,
   "metadata": {},
   "outputs": [
    {
     "data": {
      "text/plain": [
       "0.5850753022690574"
      ]
     },
     "execution_count": 56,
     "metadata": {},
     "output_type": "execute_result"
    }
   ],
   "source": [
    "\n",
    "# Test accuracy of the model on the test datasets... not great at .58 so you need to refine the model.\n",
    "model.score(X_test, y_test)"
   ]
  },
  {
   "cell_type": "code",
   "execution_count": 59,
   "metadata": {},
   "outputs": [
    {
     "data": {
      "text/plain": [
       "array([ 3.03499549e-01, -2.37639315e+02,  5.10530605e+02,  3.27736980e+02,\n",
       "       -8.14131709e+02,  4.92814588e+02,  1.02848452e+02,  1.84606489e+02,\n",
       "        7.43519617e+02,  7.60951722e+01])"
      ]
     },
     "execution_count": 59,
     "metadata": {},
     "output_type": "execute_result"
    }
   ],
   "source": [
    "# This would look like y = 3.03*x1 - 2.376 * x2 + 5.105 * x3...\n",
    "model.coef_"
   ]
  },
  {
   "cell_type": "code",
   "execution_count": 65,
   "metadata": {},
   "outputs": [
    {
     "data": {
      "text/plain": [
       "array([5041.94627747])"
      ]
     },
     "execution_count": 65,
     "metadata": {},
     "output_type": "execute_result"
    }
   ],
   "source": [
    "# predict the cost of the house by inputing values for each feature of the housing situation\n",
    "model.predict([[1,5,2,3,4,2,5,7,6,1]])\n"
   ]
  }
 ],
 "metadata": {
  "kernelspec": {
   "display_name": "Python 3",
   "language": "python",
   "name": "python3"
  },
  "language_info": {
   "codemirror_mode": {
    "name": "ipython",
    "version": 3
   },
   "file_extension": ".py",
   "mimetype": "text/x-python",
   "name": "python",
   "nbconvert_exporter": "python",
   "pygments_lexer": "ipython3",
   "version": "3.7.0"
  }
 },
 "nbformat": 4,
 "nbformat_minor": 2
}
